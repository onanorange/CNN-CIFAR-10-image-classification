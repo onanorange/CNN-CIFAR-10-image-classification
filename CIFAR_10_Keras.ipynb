{
  "nbformat": 4,
  "nbformat_minor": 0,
  "metadata": {
    "colab": {
      "name": "CIFAR-10_Keras.ipynb",
      "provenance": [],
      "authorship_tag": "ABX9TyOs55g6miOwpkXDk6zIe9YN",
      "include_colab_link": true
    },
    "kernelspec": {
      "name": "python3",
      "display_name": "Python 3"
    },
    "accelerator": "GPU"
  },
  "cells": [
    {
      "cell_type": "markdown",
      "metadata": {
        "id": "view-in-github",
        "colab_type": "text"
      },
      "source": [
        "<a href=\"https://colab.research.google.com/github/yogeshgajjar/CNN-CIFAR-10-image-classification/blob/master/CIFAR_10_Keras.ipynb\" target=\"_parent\"><img src=\"https://colab.research.google.com/assets/colab-badge.svg\" alt=\"Open In Colab\"/></a>"
      ]
    },
    {
      "cell_type": "code",
      "metadata": {
        "id": "3k7DpjSE0JWT",
        "colab_type": "code",
        "colab": {
          "base_uri": "https://localhost:8080/",
          "height": 34
        },
        "outputId": "001012e7-ef73-435a-be10-f659c870b8c0"
      },
      "source": [
        "from __future__ import print_function\n",
        "from keras.datasets import cifar10\n",
        "from keras.preprocessing.image import ImageDataGenerator\n",
        "from keras.models import Sequential\n",
        "from keras.layers import Dropout, Activation, Conv2D, GlobalAveragePooling2D, MaxPooling2D, Flatten, Dense, BatchNormalization\n",
        "from keras.utils import np_utils\n",
        "from keras.optimizers import SGD\n",
        "from matplotlib import pyplot as plt\n",
        "from keras.callbacks import CSVLogger\n",
        "import tensorflow.keras.backend as K\n",
        "import tensorflow as tf\n",
        "from tensorflow import keras\n",
        "from keras.models import model_from_yaml\n",
        "import numpy as np\n",
        "import math \n",
        "from PIL import Image\n",
        "import os"
      ],
      "execution_count": 1,
      "outputs": [
        {
          "output_type": "stream",
          "text": [
            "Using TensorFlow backend.\n"
          ],
          "name": "stderr"
        }
      ]
    },
    {
      "cell_type": "code",
      "metadata": {
        "id": "_NIvbsEn0kdN",
        "colab_type": "code",
        "colab": {
          "base_uri": "https://localhost:8080/",
          "height": 102
        },
        "outputId": "55da9b42-c1be-443a-ba4d-78aaf34c536e"
      },
      "source": [
        "(X_train, y_train), (X_test, y_test) = cifar10.load_data()\n",
        "print('x_train shape:', X_train.shape)\n",
        "print(X_train.shape[0], 'train samples')\n",
        "print(X_test.shape[0], 'test samples')"
      ],
      "execution_count": 2,
      "outputs": [
        {
          "output_type": "stream",
          "text": [
            "Downloading data from https://www.cs.toronto.edu/~kriz/cifar-10-python.tar.gz\n",
            "170500096/170498071 [==============================] - 6s 0us/step\n",
            "x_train shape: (50000, 32, 32, 3)\n",
            "50000 train samples\n",
            "10000 test samples\n"
          ],
          "name": "stdout"
        }
      ]
    },
    {
      "cell_type": "code",
      "metadata": {
        "id": "LBfsY7e10oMz",
        "colab_type": "code",
        "colab": {}
      },
      "source": [
        "datagen = ImageDataGenerator(\n",
        "    rotation_range=15,\n",
        "    horizontal_flip=True,\n",
        "    width_shift_range=0.1,\n",
        "    height_shift_range=0.1\n",
        "    #zoom_range=0.3\n",
        "    )\n",
        "datagen.fit(X_train)"
      ],
      "execution_count": 0,
      "outputs": []
    },
    {
      "cell_type": "code",
      "metadata": {
        "id": "ruk3dYON0skt",
        "colab_type": "code",
        "colab": {}
      },
      "source": [
        "num_classes = 10\n",
        "y_train = keras.utils.to_categorical(y_train, num_classes)\n",
        "y_test = keras.utils.to_categorical(y_test, num_classes)"
      ],
      "execution_count": 0,
      "outputs": []
    },
    {
      "cell_type": "code",
      "metadata": {
        "id": "NG1-_F340wed",
        "colab_type": "code",
        "colab": {}
      },
      "source": [
        "X_train = X_train.astype('float32')\n",
        "X_test = X_test.astype('float32')\n",
        "X_train /= 255\n",
        "X_test /= 255"
      ],
      "execution_count": 0,
      "outputs": []
    },
    {
      "cell_type": "code",
      "metadata": {
        "id": "zJ6Klz7F0zPg",
        "colab_type": "code",
        "colab": {}
      },
      "source": [
        "def allcnn(weights=None):\n",
        "    model = Sequential()\n",
        "\n",
        "    model.add(Conv2D(32, (3, 3), padding='same', input_shape=(32, 32, 3)))\n",
        "    model.add(Activation('relu'))\n",
        "    model.add(Conv2D(32, (3, 3)))\n",
        "    model.add(Activation('relu'))\n",
        "    model.add(MaxPooling2D(pool_size=(2, 2)))\n",
        "    model.add(Dropout(0.25))\n",
        "\n",
        "    model.add(Conv2D(64, (3, 3), padding='same'))\n",
        "    model.add(Activation('relu'))\n",
        "    model.add(Conv2D(64, (3, 3)))\n",
        "    model.add(Activation('relu'))\n",
        "    model.add(MaxPooling2D(pool_size=(2, 2)))\n",
        "    model.add(Dropout(0.25))\n",
        "\n",
        "    model.add(Flatten())\n",
        "    model.add(Dense(512))\n",
        "    model.add(Activation('relu'))\n",
        "    model.add(Dropout(0.5))\n",
        "    model.add(Dense(num_classes))\n",
        "    model.add(Activation('softmax'))\n",
        "        \n",
        "    if weights:\n",
        "        model.load_weights(weights)\n",
        "\n",
        "    return model"
      ],
      "execution_count": 0,
      "outputs": []
    },
    {
      "cell_type": "code",
      "metadata": {
        "id": "toKK55Cm1O1B",
        "colab_type": "code",
        "colab": {}
      },
      "source": [
        "model = allcnn()"
      ],
      "execution_count": 0,
      "outputs": []
    },
    {
      "cell_type": "code",
      "metadata": {
        "id": "KaqKcQVe1QPD",
        "colab_type": "code",
        "colab": {}
      },
      "source": [
        "batch_size = 64\n",
        "num_classes = 10\n",
        "epochs = 100\n",
        "# weight_decay = 0.001\n",
        "learning_rate = 0.001"
      ],
      "execution_count": 0,
      "outputs": []
    },
    {
      "cell_type": "code",
      "metadata": {
        "id": "cvr1seAO1TgU",
        "colab_type": "code",
        "colab": {}
      },
      "source": [
        "sgd = SGD(lr=learning_rate, decay=learning_rate/epochs , momentum=0.9, nesterov=True)\n",
        "model.compile(loss='categorical_crossentropy', optimizer=sgd, metrics=['accuracy'])"
      ],
      "execution_count": 0,
      "outputs": []
    },
    {
      "cell_type": "code",
      "metadata": {
        "id": "hCOchTMU1VpL",
        "colab_type": "code",
        "colab": {
          "base_uri": "https://localhost:8080/",
          "height": 1000
        },
        "outputId": "86d3c3dc-b833-4317-c8f9-5eac2bc58e8c"
      },
      "source": [
        "tf.keras.callbacks.CSVLogger(\"log.csv\", separator=',', append=False)\n",
        "\n",
        "csv_logger = CSVLogger('training.csv')\n",
        "\n",
        "history = model.fit(X_train, y_train, validation_data=(X_test, y_test), epochs=epochs, batch_size=batch_size, verbose = 1, callbacks=[csv_logger])\n",
        "\n",
        "\n",
        "\n",
        "# history = model.fit_generator(datagen.flow(X_train, y_train, batch_size=64), steps_per_epoch = len(X_train) / 64, epochs=epochs, validation_data=(X_test, y_test), verbose=1, callbacks=[csv_logger])"
      ],
      "execution_count": 10,
      "outputs": [
        {
          "output_type": "stream",
          "text": [
            "Train on 50000 samples, validate on 10000 samples\n",
            "Epoch 1/100\n",
            "50000/50000 [==============================] - 12s 236us/step - loss: 2.1718 - accuracy: 0.1823 - val_loss: 1.9668 - val_accuracy: 0.2929\n",
            "Epoch 2/100\n",
            "50000/50000 [==============================] - 6s 110us/step - loss: 1.9045 - accuracy: 0.3044 - val_loss: 1.7534 - val_accuracy: 0.3787\n",
            "Epoch 3/100\n",
            "50000/50000 [==============================] - 6s 111us/step - loss: 1.7503 - accuracy: 0.3625 - val_loss: 1.7173 - val_accuracy: 0.3816\n",
            "Epoch 4/100\n",
            "50000/50000 [==============================] - 5s 110us/step - loss: 1.6488 - accuracy: 0.3985 - val_loss: 1.7107 - val_accuracy: 0.3999\n",
            "Epoch 5/100\n",
            "50000/50000 [==============================] - 6s 111us/step - loss: 1.5599 - accuracy: 0.4278 - val_loss: 1.4633 - val_accuracy: 0.4653\n",
            "Epoch 6/100\n",
            "50000/50000 [==============================] - 5s 110us/step - loss: 1.4821 - accuracy: 0.4578 - val_loss: 1.4072 - val_accuracy: 0.4993\n",
            "Epoch 7/100\n",
            "50000/50000 [==============================] - 5s 110us/step - loss: 1.4225 - accuracy: 0.4849 - val_loss: 1.3122 - val_accuracy: 0.5289\n",
            "Epoch 8/100\n",
            "50000/50000 [==============================] - 6s 110us/step - loss: 1.3777 - accuracy: 0.5009 - val_loss: 1.2770 - val_accuracy: 0.5413\n",
            "Epoch 9/100\n",
            "50000/50000 [==============================] - 6s 110us/step - loss: 1.3338 - accuracy: 0.5200 - val_loss: 1.2589 - val_accuracy: 0.5471\n",
            "Epoch 10/100\n",
            "50000/50000 [==============================] - 5s 110us/step - loss: 1.2926 - accuracy: 0.5361 - val_loss: 1.2154 - val_accuracy: 0.5617\n",
            "Epoch 11/100\n",
            "50000/50000 [==============================] - 6s 110us/step - loss: 1.2533 - accuracy: 0.5530 - val_loss: 1.1548 - val_accuracy: 0.5859\n",
            "Epoch 12/100\n",
            "50000/50000 [==============================] - 6s 111us/step - loss: 1.2242 - accuracy: 0.5656 - val_loss: 1.1209 - val_accuracy: 0.6051\n",
            "Epoch 13/100\n",
            "50000/50000 [==============================] - 6s 111us/step - loss: 1.1896 - accuracy: 0.5749 - val_loss: 1.0990 - val_accuracy: 0.6097\n",
            "Epoch 14/100\n",
            "50000/50000 [==============================] - 6s 110us/step - loss: 1.1628 - accuracy: 0.5849 - val_loss: 1.0616 - val_accuracy: 0.6250\n",
            "Epoch 15/100\n",
            "50000/50000 [==============================] - 6s 110us/step - loss: 1.1337 - accuracy: 0.5965 - val_loss: 1.0565 - val_accuracy: 0.6282\n",
            "Epoch 16/100\n",
            "50000/50000 [==============================] - 5s 110us/step - loss: 1.1087 - accuracy: 0.6069 - val_loss: 1.0127 - val_accuracy: 0.6431\n",
            "Epoch 17/100\n",
            "50000/50000 [==============================] - 5s 110us/step - loss: 1.0829 - accuracy: 0.6163 - val_loss: 0.9966 - val_accuracy: 0.6480\n",
            "Epoch 18/100\n",
            "50000/50000 [==============================] - 6s 110us/step - loss: 1.0646 - accuracy: 0.6220 - val_loss: 0.9710 - val_accuracy: 0.6572\n",
            "Epoch 19/100\n",
            "50000/50000 [==============================] - 6s 113us/step - loss: 1.0410 - accuracy: 0.6320 - val_loss: 0.9486 - val_accuracy: 0.6675\n",
            "Epoch 20/100\n",
            "50000/50000 [==============================] - 6s 115us/step - loss: 1.0218 - accuracy: 0.6386 - val_loss: 0.9394 - val_accuracy: 0.6709\n",
            "Epoch 21/100\n",
            "50000/50000 [==============================] - 6s 112us/step - loss: 1.0020 - accuracy: 0.6441 - val_loss: 0.9362 - val_accuracy: 0.6714\n",
            "Epoch 22/100\n",
            "50000/50000 [==============================] - 6s 110us/step - loss: 0.9874 - accuracy: 0.6495 - val_loss: 0.9096 - val_accuracy: 0.6816\n",
            "Epoch 23/100\n",
            "50000/50000 [==============================] - 5s 110us/step - loss: 0.9735 - accuracy: 0.6532 - val_loss: 0.9102 - val_accuracy: 0.6786\n",
            "Epoch 24/100\n",
            "50000/50000 [==============================] - 6s 110us/step - loss: 0.9561 - accuracy: 0.6601 - val_loss: 0.8828 - val_accuracy: 0.6883\n",
            "Epoch 25/100\n",
            "50000/50000 [==============================] - 6s 110us/step - loss: 0.9382 - accuracy: 0.6681 - val_loss: 0.8984 - val_accuracy: 0.6855\n",
            "Epoch 26/100\n",
            "50000/50000 [==============================] - 6s 110us/step - loss: 0.9239 - accuracy: 0.6743 - val_loss: 0.8560 - val_accuracy: 0.7015\n",
            "Epoch 27/100\n",
            "50000/50000 [==============================] - 6s 111us/step - loss: 0.9141 - accuracy: 0.6754 - val_loss: 0.8762 - val_accuracy: 0.6968\n",
            "Epoch 28/100\n",
            "50000/50000 [==============================] - 6s 110us/step - loss: 0.9026 - accuracy: 0.6794 - val_loss: 0.8360 - val_accuracy: 0.7087\n",
            "Epoch 29/100\n",
            "50000/50000 [==============================] - 6s 110us/step - loss: 0.8871 - accuracy: 0.6890 - val_loss: 0.8499 - val_accuracy: 0.7045\n",
            "Epoch 30/100\n",
            "50000/50000 [==============================] - 5s 110us/step - loss: 0.8758 - accuracy: 0.6907 - val_loss: 0.8138 - val_accuracy: 0.7186\n",
            "Epoch 31/100\n",
            "50000/50000 [==============================] - 6s 110us/step - loss: 0.8630 - accuracy: 0.6961 - val_loss: 0.8058 - val_accuracy: 0.7222\n",
            "Epoch 32/100\n",
            "50000/50000 [==============================] - 5s 109us/step - loss: 0.8550 - accuracy: 0.6971 - val_loss: 0.8116 - val_accuracy: 0.7215\n",
            "Epoch 33/100\n",
            "50000/50000 [==============================] - 5s 110us/step - loss: 0.8465 - accuracy: 0.7009 - val_loss: 0.8015 - val_accuracy: 0.7291\n",
            "Epoch 34/100\n",
            "50000/50000 [==============================] - 5s 109us/step - loss: 0.8386 - accuracy: 0.7057 - val_loss: 0.7826 - val_accuracy: 0.7321\n",
            "Epoch 35/100\n",
            "50000/50000 [==============================] - 5s 109us/step - loss: 0.8191 - accuracy: 0.7118 - val_loss: 0.7801 - val_accuracy: 0.7310\n",
            "Epoch 36/100\n",
            "50000/50000 [==============================] - 5s 110us/step - loss: 0.8128 - accuracy: 0.7149 - val_loss: 0.7685 - val_accuracy: 0.7322\n",
            "Epoch 37/100\n",
            "50000/50000 [==============================] - 5s 110us/step - loss: 0.8045 - accuracy: 0.7165 - val_loss: 0.7816 - val_accuracy: 0.7271\n",
            "Epoch 38/100\n",
            "50000/50000 [==============================] - 6s 110us/step - loss: 0.7940 - accuracy: 0.7211 - val_loss: 0.7614 - val_accuracy: 0.7391\n",
            "Epoch 39/100\n",
            "50000/50000 [==============================] - 6s 112us/step - loss: 0.7883 - accuracy: 0.7214 - val_loss: 0.7460 - val_accuracy: 0.7434\n",
            "Epoch 40/100\n",
            "50000/50000 [==============================] - 6s 111us/step - loss: 0.7735 - accuracy: 0.7282 - val_loss: 0.7488 - val_accuracy: 0.7442\n",
            "Epoch 41/100\n",
            "50000/50000 [==============================] - 6s 111us/step - loss: 0.7713 - accuracy: 0.7293 - val_loss: 0.7403 - val_accuracy: 0.7440\n",
            "Epoch 42/100\n",
            "50000/50000 [==============================] - 6s 111us/step - loss: 0.7581 - accuracy: 0.7321 - val_loss: 0.7428 - val_accuracy: 0.7445\n",
            "Epoch 43/100\n",
            "50000/50000 [==============================] - 5s 110us/step - loss: 0.7554 - accuracy: 0.7341 - val_loss: 0.7228 - val_accuracy: 0.7508\n",
            "Epoch 44/100\n",
            "50000/50000 [==============================] - 5s 110us/step - loss: 0.7451 - accuracy: 0.7375 - val_loss: 0.7286 - val_accuracy: 0.7476\n",
            "Epoch 45/100\n",
            "50000/50000 [==============================] - 5s 109us/step - loss: 0.7385 - accuracy: 0.7389 - val_loss: 0.7238 - val_accuracy: 0.7533\n",
            "Epoch 46/100\n",
            "50000/50000 [==============================] - 5s 110us/step - loss: 0.7293 - accuracy: 0.7435 - val_loss: 0.7151 - val_accuracy: 0.7547\n",
            "Epoch 47/100\n",
            "50000/50000 [==============================] - 6s 110us/step - loss: 0.7234 - accuracy: 0.7458 - val_loss: 0.7042 - val_accuracy: 0.7597\n",
            "Epoch 48/100\n",
            "50000/50000 [==============================] - 6s 110us/step - loss: 0.7162 - accuracy: 0.7466 - val_loss: 0.6991 - val_accuracy: 0.7590\n",
            "Epoch 49/100\n",
            "50000/50000 [==============================] - 6s 110us/step - loss: 0.7088 - accuracy: 0.7498 - val_loss: 0.7326 - val_accuracy: 0.7495\n",
            "Epoch 50/100\n",
            "50000/50000 [==============================] - 6s 110us/step - loss: 0.7026 - accuracy: 0.7506 - val_loss: 0.7036 - val_accuracy: 0.7611\n",
            "Epoch 51/100\n",
            "50000/50000 [==============================] - 5s 109us/step - loss: 0.6939 - accuracy: 0.7550 - val_loss: 0.6850 - val_accuracy: 0.7665\n",
            "Epoch 52/100\n",
            "50000/50000 [==============================] - 5s 110us/step - loss: 0.6868 - accuracy: 0.7571 - val_loss: 0.6861 - val_accuracy: 0.7642\n",
            "Epoch 53/100\n",
            "50000/50000 [==============================] - 5s 110us/step - loss: 0.6849 - accuracy: 0.7592 - val_loss: 0.6792 - val_accuracy: 0.7659\n",
            "Epoch 54/100\n",
            "50000/50000 [==============================] - 5s 110us/step - loss: 0.6773 - accuracy: 0.7595 - val_loss: 0.6720 - val_accuracy: 0.7693\n",
            "Epoch 55/100\n",
            "50000/50000 [==============================] - 6s 110us/step - loss: 0.6683 - accuracy: 0.7644 - val_loss: 0.6706 - val_accuracy: 0.7686\n",
            "Epoch 56/100\n",
            "50000/50000 [==============================] - 6s 111us/step - loss: 0.6616 - accuracy: 0.7666 - val_loss: 0.6634 - val_accuracy: 0.7741\n",
            "Epoch 57/100\n",
            "50000/50000 [==============================] - 6s 110us/step - loss: 0.6584 - accuracy: 0.7688 - val_loss: 0.6624 - val_accuracy: 0.7770\n",
            "Epoch 58/100\n",
            "50000/50000 [==============================] - 5s 110us/step - loss: 0.6540 - accuracy: 0.7692 - val_loss: 0.6678 - val_accuracy: 0.7724\n",
            "Epoch 59/100\n",
            "50000/50000 [==============================] - 5s 110us/step - loss: 0.6428 - accuracy: 0.7734 - val_loss: 0.6518 - val_accuracy: 0.7766\n",
            "Epoch 60/100\n",
            "50000/50000 [==============================] - 6s 110us/step - loss: 0.6431 - accuracy: 0.7753 - val_loss: 0.6718 - val_accuracy: 0.7711\n",
            "Epoch 61/100\n",
            "50000/50000 [==============================] - 5s 110us/step - loss: 0.6294 - accuracy: 0.7772 - val_loss: 0.6550 - val_accuracy: 0.7794\n",
            "Epoch 62/100\n",
            "50000/50000 [==============================] - 5s 109us/step - loss: 0.6267 - accuracy: 0.7779 - val_loss: 0.6435 - val_accuracy: 0.7803\n",
            "Epoch 63/100\n",
            "50000/50000 [==============================] - 5s 110us/step - loss: 0.6259 - accuracy: 0.7795 - val_loss: 0.6454 - val_accuracy: 0.7786\n",
            "Epoch 64/100\n",
            "50000/50000 [==============================] - 5s 110us/step - loss: 0.6165 - accuracy: 0.7837 - val_loss: 0.6464 - val_accuracy: 0.7799\n",
            "Epoch 65/100\n",
            "50000/50000 [==============================] - 5s 110us/step - loss: 0.6149 - accuracy: 0.7799 - val_loss: 0.6423 - val_accuracy: 0.7795\n",
            "Epoch 66/100\n",
            "50000/50000 [==============================] - 5s 109us/step - loss: 0.6032 - accuracy: 0.7868 - val_loss: 0.6395 - val_accuracy: 0.7817\n",
            "Epoch 67/100\n",
            "50000/50000 [==============================] - 5s 109us/step - loss: 0.6040 - accuracy: 0.7865 - val_loss: 0.6305 - val_accuracy: 0.7847\n",
            "Epoch 68/100\n",
            "50000/50000 [==============================] - 5s 110us/step - loss: 0.5971 - accuracy: 0.7888 - val_loss: 0.6286 - val_accuracy: 0.7847\n",
            "Epoch 69/100\n",
            "50000/50000 [==============================] - 5s 110us/step - loss: 0.5929 - accuracy: 0.7913 - val_loss: 0.6352 - val_accuracy: 0.7841\n",
            "Epoch 70/100\n",
            "50000/50000 [==============================] - 5s 110us/step - loss: 0.5890 - accuracy: 0.7932 - val_loss: 0.6284 - val_accuracy: 0.7860\n",
            "Epoch 71/100\n",
            "50000/50000 [==============================] - 6s 110us/step - loss: 0.5876 - accuracy: 0.7923 - val_loss: 0.6373 - val_accuracy: 0.7841\n",
            "Epoch 72/100\n",
            "50000/50000 [==============================] - 6s 110us/step - loss: 0.5738 - accuracy: 0.7975 - val_loss: 0.6200 - val_accuracy: 0.7906\n",
            "Epoch 73/100\n",
            "50000/50000 [==============================] - 5s 109us/step - loss: 0.5739 - accuracy: 0.7974 - val_loss: 0.6220 - val_accuracy: 0.7885\n",
            "Epoch 74/100\n",
            "50000/50000 [==============================] - 5s 110us/step - loss: 0.5688 - accuracy: 0.7996 - val_loss: 0.6142 - val_accuracy: 0.7870\n",
            "Epoch 75/100\n",
            "50000/50000 [==============================] - 6s 111us/step - loss: 0.5652 - accuracy: 0.7996 - val_loss: 0.6143 - val_accuracy: 0.7883\n",
            "Epoch 76/100\n",
            "50000/50000 [==============================] - 6s 115us/step - loss: 0.5612 - accuracy: 0.8009 - val_loss: 0.6259 - val_accuracy: 0.7871\n",
            "Epoch 77/100\n",
            "50000/50000 [==============================] - 6s 113us/step - loss: 0.5578 - accuracy: 0.8035 - val_loss: 0.6165 - val_accuracy: 0.7897\n",
            "Epoch 78/100\n",
            "50000/50000 [==============================] - 5s 109us/step - loss: 0.5535 - accuracy: 0.8053 - val_loss: 0.6064 - val_accuracy: 0.7936\n",
            "Epoch 79/100\n",
            "50000/50000 [==============================] - 6s 110us/step - loss: 0.5513 - accuracy: 0.8040 - val_loss: 0.6025 - val_accuracy: 0.7965\n",
            "Epoch 80/100\n",
            "50000/50000 [==============================] - 5s 110us/step - loss: 0.5459 - accuracy: 0.8067 - val_loss: 0.6082 - val_accuracy: 0.7945\n",
            "Epoch 81/100\n",
            "50000/50000 [==============================] - 5s 110us/step - loss: 0.5396 - accuracy: 0.8075 - val_loss: 0.6068 - val_accuracy: 0.7934\n",
            "Epoch 82/100\n",
            "50000/50000 [==============================] - 6s 111us/step - loss: 0.5338 - accuracy: 0.8107 - val_loss: 0.6137 - val_accuracy: 0.7895\n",
            "Epoch 83/100\n",
            "50000/50000 [==============================] - 6s 110us/step - loss: 0.5317 - accuracy: 0.8103 - val_loss: 0.6033 - val_accuracy: 0.7939\n",
            "Epoch 84/100\n",
            "50000/50000 [==============================] - 5s 110us/step - loss: 0.5286 - accuracy: 0.8129 - val_loss: 0.6068 - val_accuracy: 0.7918\n",
            "Epoch 85/100\n",
            "50000/50000 [==============================] - 6s 111us/step - loss: 0.5248 - accuracy: 0.8150 - val_loss: 0.6100 - val_accuracy: 0.7932\n",
            "Epoch 86/100\n",
            "50000/50000 [==============================] - 6s 111us/step - loss: 0.5196 - accuracy: 0.8142 - val_loss: 0.5977 - val_accuracy: 0.7985\n",
            "Epoch 87/100\n",
            "50000/50000 [==============================] - 5s 110us/step - loss: 0.5173 - accuracy: 0.8142 - val_loss: 0.6024 - val_accuracy: 0.7944\n",
            "Epoch 88/100\n",
            "50000/50000 [==============================] - 5s 109us/step - loss: 0.5113 - accuracy: 0.8178 - val_loss: 0.5972 - val_accuracy: 0.7959\n",
            "Epoch 89/100\n",
            "50000/50000 [==============================] - 5s 109us/step - loss: 0.5112 - accuracy: 0.8192 - val_loss: 0.6014 - val_accuracy: 0.7936\n",
            "Epoch 90/100\n",
            "50000/50000 [==============================] - 6s 110us/step - loss: 0.5098 - accuracy: 0.8177 - val_loss: 0.5948 - val_accuracy: 0.7983\n",
            "Epoch 91/100\n",
            "50000/50000 [==============================] - 5s 110us/step - loss: 0.4990 - accuracy: 0.8216 - val_loss: 0.5882 - val_accuracy: 0.8001\n",
            "Epoch 92/100\n",
            "50000/50000 [==============================] - 6s 110us/step - loss: 0.5020 - accuracy: 0.8217 - val_loss: 0.5898 - val_accuracy: 0.7987\n",
            "Epoch 93/100\n",
            "50000/50000 [==============================] - 5s 110us/step - loss: 0.4941 - accuracy: 0.8251 - val_loss: 0.5927 - val_accuracy: 0.7976\n",
            "Epoch 94/100\n",
            "50000/50000 [==============================] - 6s 111us/step - loss: 0.4914 - accuracy: 0.8255 - val_loss: 0.5814 - val_accuracy: 0.8000\n",
            "Epoch 95/100\n",
            "50000/50000 [==============================] - 6s 113us/step - loss: 0.4877 - accuracy: 0.8253 - val_loss: 0.5968 - val_accuracy: 0.7980\n",
            "Epoch 96/100\n",
            "50000/50000 [==============================] - 5s 109us/step - loss: 0.4856 - accuracy: 0.8273 - val_loss: 0.5899 - val_accuracy: 0.8007\n",
            "Epoch 97/100\n",
            "50000/50000 [==============================] - 6s 110us/step - loss: 0.4809 - accuracy: 0.8285 - val_loss: 0.5842 - val_accuracy: 0.7999\n",
            "Epoch 98/100\n",
            "50000/50000 [==============================] - 5s 110us/step - loss: 0.4801 - accuracy: 0.8268 - val_loss: 0.5837 - val_accuracy: 0.8007\n",
            "Epoch 99/100\n",
            "50000/50000 [==============================] - 6s 110us/step - loss: 0.4747 - accuracy: 0.8315 - val_loss: 0.5885 - val_accuracy: 0.8008\n",
            "Epoch 100/100\n",
            "50000/50000 [==============================] - 6s 111us/step - loss: 0.4724 - accuracy: 0.8310 - val_loss: 0.5859 - val_accuracy: 0.8026\n"
          ],
          "name": "stdout"
        }
      ]
    },
    {
      "cell_type": "code",
      "metadata": {
        "id": "poJ7eWst1bps",
        "colab_type": "code",
        "colab": {}
      },
      "source": [
        "dropout = 0.5\n",
        "learning_rate = 0.05\n",
        "key = \"SGD\"\n",
        "weight_decay = learning_rate/epochs\n",
        "batch_size = 64 \n",
        "xavier = False"
      ],
      "execution_count": 0,
      "outputs": []
    },
    {
      "cell_type": "code",
      "metadata": {
        "id": "h1qEoEtE1dcQ",
        "colab_type": "code",
        "colab": {
          "base_uri": "https://localhost:8080/",
          "height": 545
        },
        "outputId": "525e2b76-ce48-4134-e9f4-b0b703fcd37d"
      },
      "source": [
        "print(history.history.keys())\n",
        "plt.figure(1, figsize=(12,8))\n",
        "plt.plot(history.history['accuracy'], color='red', marker='o', linewidth=2)\n",
        "plt.plot(history.history['val_accuracy'],color='blue', marker='x', linewidth=2)\n",
        "plt.title(\"Epoch Accuracy Plot \\n Dropout: \"+str(dropout)+\"| Learning Rate: \"+str(learning_rate)+\"| Optimizers: \"+key+\n",
        "              \" | Weight Decay:\"+str(weight_decay)+\"| Batch Size: \"+str(batch_size)+\"| Filter Weight(xavier_normal): \"+str(xavier))\n",
        "plt.ylabel('accuracy')\n",
        "plt.xlabel('epoch')\n",
        "plt.legend(['Train Accuracy', 'Test Accuracy'], loc='upper left')\n",
        "plt.savefig(\"epoch-accuracy.png\")\n",
        "plt.show()"
      ],
      "execution_count": 12,
      "outputs": [
        {
          "output_type": "stream",
          "text": [
            "dict_keys(['val_loss', 'val_accuracy', 'loss', 'accuracy'])\n"
          ],
          "name": "stdout"
        },
        {
          "output_type": "display_data",
          "data": {
            "image/png": "[encoded data removed]",
            "text/plain": [
              "<Figure size 864x576 with 1 Axes>"
            ]
          },
          "metadata": {
            "tags": [],
            "needs_background": "light"
          }
        }
      ]
    },
    {
      "cell_type": "code",
      "metadata": {
        "id": "scMQGGAT1dTS",
        "colab_type": "code",
        "colab": {
          "base_uri": "https://localhost:8080/",
          "height": 528
        },
        "outputId": "757ffe4d-029a-48d7-83ac-af556a3b9aa3"
      },
      "source": [
        "plt.figure(2, figsize=(12,8))\n",
        "plt.plot(history.history['loss'], color='red', marker='o', linewidth=2)\n",
        "plt.plot(history.history['val_loss'], color='blue', marker='x', linewidth=2)\n",
        "plt.title(\"Epoch Loss Plot \\n Dropout: \"+str(dropout)+\"| Learning Rate: \"+str(learning_rate)+\"| Optimizers: \"+key+\n",
        "              \" | Weight Decay: \"+str(weight_decay)+\"| Batch Size: \"+str(batch_size)+\"| Filter Weight(xavier_normal): \"+str(xavier))\n",
        "plt.ylabel('loss')\n",
        "plt.xlabel('epoch')\n",
        "plt.legend(['Train loss', 'Test loss'], loc='upper right')\n",
        "plt.savefig(\"epoch-loss.png\")\n",
        "plt.show()"
      ],
      "execution_count": 13,
      "outputs": [
        {
          "output_type": "display_data",
          "data": {
            "image/png": "[encoded data removed]",
            "text/plain": [
              "<Figure size 864x576 with 1 Axes>"
            ]
          },
          "metadata": {
            "tags": [],
            "needs_background": "light"
          }
        }
      ]
    },
    {
      "cell_type": "code",
      "metadata": {
        "id": "FAHxcZAE3x4D",
        "colab_type": "code",
        "colab": {
          "base_uri": "https://localhost:8080/",
          "height": 68
        },
        "outputId": "3612962d-cdc8-4fed-fcb3-9a537be7a483"
      },
      "source": [
        "score, acc = model.evaluate(X_test, y_test,\n",
        "                            batch_size=batch_size)\n",
        "print('Test score:', score)\n",
        "print('Test accuracy:', acc)"
      ],
      "execution_count": 14,
      "outputs": [
        {
          "output_type": "stream",
          "text": [
            "10000/10000 [==============================] - 1s 55us/step\n",
            "Test score: 0.5859402404785157\n",
            "Test accuracy: 0.8026000261306763\n"
          ],
          "name": "stdout"
        }
      ]
    },
    {
      "cell_type": "code",
      "metadata": {
        "id": "N37KtiiV3026",
        "colab_type": "code",
        "colab": {
          "base_uri": "https://localhost:8080/",
          "height": 34
        },
        "outputId": "341e6ad0-da71-43b6-f1d2-feba464dae2f"
      },
      "source": [
        "from keras.models import model_from_json\n",
        "# serialize model to JSON\n",
        "model_json = model.to_json()\n",
        "with open(\"model.json\", \"w\") as json_file:\n",
        "    json_file.write(model_json)\n",
        "# serialize weights to HDF5\n",
        "model.save_weights(\"model_new.h5\")\n",
        "print(\"Saved model to disk\")\n",
        " \n",
        "# later..."
      ],
      "execution_count": 15,
      "outputs": [
        {
          "output_type": "stream",
          "text": [
            "Saved model to disk\n"
          ],
          "name": "stdout"
        }
      ]
    },
    {
      "cell_type": "code",
      "metadata": {
        "id": "oHdNzN023005",
        "colab_type": "code",
        "colab": {
          "base_uri": "https://localhost:8080/",
          "height": 51
        },
        "outputId": "448a9ef1-d7c0-4d0a-9b3c-93a146cf8565"
      },
      "source": [
        "# load json and create model\n",
        "json_file = open('model.json', 'r')\n",
        "loaded_model_json = json_file.read()\n",
        "json_file.close()\n",
        "loaded_model = model_from_json(loaded_model_json)\n",
        "# load weights into new model\n",
        "loaded_model.load_weights(\"model_new.h5\")\n",
        "print(\"Loaded model from disk\")\n",
        " \n",
        "# evaluate loaded model on test data\n",
        "loaded_model.compile(loss='categorical_crossentropy', optimizer=sgd, metrics=['accuracy'])\n",
        "score = loaded_model.evaluate(X_test, y_test, verbose=0)\n",
        "print(\"%s: %.2f%%\" % (loaded_model.metrics_names[1], score[1]*100))"
      ],
      "execution_count": 16,
      "outputs": [
        {
          "output_type": "stream",
          "text": [
            "Loaded model from disk\n",
            "accuracy: 80.26%\n"
          ],
          "name": "stdout"
        }
      ]
    },
    {
      "cell_type": "code",
      "metadata": {
        "id": "mfvJDw7I4Dcw",
        "colab_type": "code",
        "colab": {}
      },
      "source": [
        ""
      ],
      "execution_count": 0,
      "outputs": []
    }
  ]
}